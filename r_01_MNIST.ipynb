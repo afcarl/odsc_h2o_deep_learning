{
 "cells": [
  {
   "cell_type": "markdown",
   "metadata": {},
   "source": [
    "# Deep Learning with H2O - Tutorial 1: MNIST Handwritten Digits Classification\n",
    "\n",
    "<hr>\n",
    "\n",
    "**Objective**:\n",
    "\n",
    "- This tutorial demonstrates the basic usage of the classic H2O deep learning algorithm.\n",
    "\n",
    "<hr>\n",
    "\n",
    "**MNIST Dataset (Kaggle Version):**\n",
    "\n",
    "- https://www.kaggle.com/c/digit-recognizer/data\n",
    "\n",
    "<hr>\n",
    "    \n",
    "**Methods**:\n",
    "\n",
    "1. xxx\n",
    "2. xx\n",
    "\n",
    "<hr>\n",
    "\n",
    "**Full Technical Reference:**\n",
    "\n",
    "- http://docs.h2o.ai/h2o/latest-stable/h2o-docs/data-science/deep-learning.html\n",
    "- https://github.com/h2oai/h2o-3/blob/master/h2o-docs/src/product/tutorials/dl/dlperf.Rmd\n",
    "\n",
    "<br>"
   ]
  },
  {
   "cell_type": "markdown",
   "metadata": {},
   "source": [
    "<br>\n",
    "\n",
    "## Start and Connect to a Local H2O Cluster"
   ]
  },
  {
   "cell_type": "code",
   "execution_count": 2,
   "metadata": {
    "collapsed": true
   },
   "outputs": [],
   "source": [
    "# Load R Packages\n",
    "suppressPackageStartupMessages(library(h2o))"
   ]
  },
  {
   "cell_type": "code",
   "execution_count": 3,
   "metadata": {
    "collapsed": false,
    "scrolled": false
   },
   "outputs": [
    {
     "name": "stdout",
     "output_type": "stream",
     "text": [
      "\n",
      "H2O is not running yet, starting it now...\n",
      "\n",
      "Note:  In case of errors look at the following log files:\n",
      "    /tmp/RtmpQVK0SQ/h2o_joe_started_from_r.out\n",
      "    /tmp/RtmpQVK0SQ/h2o_joe_started_from_r.err\n",
      "\n",
      "\n",
      "Starting H2O JVM and connecting: .. Connection successful!\n",
      "\n",
      "R is connected to the H2O cluster: \n",
      "    H2O cluster uptime:         2 seconds 227 milliseconds \n",
      "    H2O cluster version:        3.10.3.5 \n",
      "    H2O cluster version age:    9 days  \n",
      "    H2O cluster name:           H2O_started_from_R_joe_dba557 \n",
      "    H2O cluster total nodes:    1 \n",
      "    H2O cluster total memory:   5.21 GB \n",
      "    H2O cluster total cores:    8 \n",
      "    H2O cluster allowed cores:  8 \n",
      "    H2O cluster healthy:        TRUE \n",
      "    H2O Connection ip:          localhost \n",
      "    H2O Connection port:        54321 \n",
      "    H2O Connection proxy:       NA \n",
      "    R Version:                  R version 3.3.2 (2016-10-31) \n",
      "\n"
     ]
    }
   ],
   "source": [
    "# Start and connect to a local H2O cluster\n",
    "h2o.init(nthreads = -1)"
   ]
  },
  {
   "cell_type": "markdown",
   "metadata": {},
   "source": [
    "<br>\n",
    "\n",
    "## Basic Exploratory Analysis"
   ]
  },
  {
   "cell_type": "code",
   "execution_count": 4,
   "metadata": {
    "collapsed": false
   },
   "outputs": [
    {
     "name": "stdout",
     "output_type": "stream",
     "text": [
      "\r",
      "  |                                                                            \r",
      "  |                                                                      |   0%\r",
      "  |                                                                            \r",
      "  |=============================================================         |  87%\r",
      "  |                                                                            \r",
      "  |======================================================================| 100%\n"
     ]
    }
   ],
   "source": [
    "# Import Kaggle MNIST (train)\n",
    "h_mnist <- h2o.importFile(\"./data/kaggle_mnist_train.csv\")"
   ]
  },
  {
   "cell_type": "code",
   "execution_count": 5,
   "metadata": {
    "collapsed": false
   },
   "outputs": [
    {
     "data": {
      "text/html": [
       "<table>\n",
       "<thead><tr><th scope=col>Label</th><th scope=col>Type</th><th scope=col>Missing</th><th scope=col>Zeros</th><th scope=col>PosInf</th><th scope=col>NegInf</th><th scope=col>Min</th><th scope=col>Max</th><th scope=col>Mean</th><th scope=col>Sigma</th><th scope=col>Cardinality</th></tr></thead>\n",
       "<tbody>\n",
       "\t<tr><td>label           </td><td>int             </td><td>0               </td><td>4132            </td><td>0               </td><td>0               </td><td>0               </td><td>9               </td><td>4.45664285714286</td><td>2.88773014184163</td><td>NA              </td></tr>\n",
       "</tbody>\n",
       "</table>\n"
      ],
      "text/latex": [
       "\\begin{tabular}{r|lllllllllll}\n",
       " Label & Type & Missing & Zeros & PosInf & NegInf & Min & Max & Mean & Sigma & Cardinality\\\\\n",
       "\\hline\n",
       "\t label            & int              & 0                & 4132             & 0                & 0                & 0                & 9                & 4.45664285714286 & 2.88773014184163 & NA              \\\\\n",
       "\\end{tabular}\n"
      ],
      "text/markdown": [
       "\n",
       "Label | Type | Missing | Zeros | PosInf | NegInf | Min | Max | Mean | Sigma | Cardinality | \n",
       "|---|\n",
       "| label            | int              | 0                | 4132             | 0                | 0                | 0                | 9                | 4.45664285714286 | 2.88773014184163 | NA               | \n",
       "\n",
       "\n"
      ],
      "text/plain": [
       "  Label Type Missing Zeros PosInf NegInf Min Max Mean            \n",
       "1 label int  0       4132  0      0      0   9   4.45664285714286\n",
       "  Sigma            Cardinality\n",
       "1 2.88773014184163 NA         "
      ]
     },
     "metadata": {},
     "output_type": "display_data"
    }
   ],
   "source": [
    "# Quick summary\n",
    "h2o.describe(h_mnist$label)"
   ]
  },
  {
   "cell_type": "code",
   "execution_count": 6,
   "metadata": {
    "collapsed": false,
    "scrolled": true
   },
   "outputs": [
    {
     "data": {
      "text/html": [
       "<table>\n",
       "<thead><tr><th scope=col>label</th><th scope=col>Count</th></tr></thead>\n",
       "<tbody>\n",
       "\t<tr><td>0   </td><td>4132</td></tr>\n",
       "\t<tr><td>1   </td><td>4684</td></tr>\n",
       "\t<tr><td>2   </td><td>4177</td></tr>\n",
       "\t<tr><td>3   </td><td>4351</td></tr>\n",
       "\t<tr><td>4   </td><td>4072</td></tr>\n",
       "\t<tr><td>5   </td><td>3795</td></tr>\n",
       "\t<tr><td>6   </td><td>4137</td></tr>\n",
       "\t<tr><td>7   </td><td>4401</td></tr>\n",
       "\t<tr><td>8   </td><td>4063</td></tr>\n",
       "\t<tr><td>9   </td><td>4188</td></tr>\n",
       "</tbody>\n",
       "</table>\n"
      ],
      "text/latex": [
       "\\begin{tabular}{r|ll}\n",
       " label & Count\\\\\n",
       "\\hline\n",
       "\t 0    & 4132\\\\\n",
       "\t 1    & 4684\\\\\n",
       "\t 2    & 4177\\\\\n",
       "\t 3    & 4351\\\\\n",
       "\t 4    & 4072\\\\\n",
       "\t 5    & 3795\\\\\n",
       "\t 6    & 4137\\\\\n",
       "\t 7    & 4401\\\\\n",
       "\t 8    & 4063\\\\\n",
       "\t 9    & 4188\\\\\n",
       "\\end{tabular}\n"
      ],
      "text/markdown": [
       "\n",
       "label | Count | \n",
       "|---|---|---|---|---|---|---|---|---|---|\n",
       "| 0    | 4132 | \n",
       "| 1    | 4684 | \n",
       "| 2    | 4177 | \n",
       "| 3    | 4351 | \n",
       "| 4    | 4072 | \n",
       "| 5    | 3795 | \n",
       "| 6    | 4137 | \n",
       "| 7    | 4401 | \n",
       "| 8    | 4063 | \n",
       "| 9    | 4188 | \n",
       "\n",
       "\n"
      ],
      "text/plain": [
       "   label Count\n",
       "1  0     4132 \n",
       "2  1     4684 \n",
       "3  2     4177 \n",
       "4  3     4351 \n",
       "5  4     4072 \n",
       "6  5     3795 \n",
       "7  6     4137 \n",
       "8  7     4401 \n",
       "9  8     4063 \n",
       "10 9     4188 "
      ]
     },
     "metadata": {},
     "output_type": "display_data"
    }
   ],
   "source": [
    "# Quick Count\n",
    "head(h2o.table(h_mnist$label), 10)"
   ]
  },
  {
   "cell_type": "markdown",
   "metadata": {},
   "source": [
    "## Basic Data Transformation"
   ]
  },
  {
   "cell_type": "code",
   "execution_count": 7,
   "metadata": {
    "collapsed": true
   },
   "outputs": [],
   "source": [
    "# Convert label from numerical values to categorical values\n",
    "h_mnist$label <- as.factor(h_mnist$label)"
   ]
  },
  {
   "cell_type": "markdown",
   "metadata": {},
   "source": [
    "<br>\n",
    "\n",
    "## Define Target and Features"
   ]
  },
  {
   "cell_type": "code",
   "execution_count": 8,
   "metadata": {
    "collapsed": false,
    "scrolled": true
   },
   "outputs": [
    {
     "name": "stdout",
     "output_type": "stream",
     "text": [
      "  [1] \"pixel0\"   \"pixel1\"   \"pixel2\"   \"pixel3\"   \"pixel4\"   \"pixel5\"  \n",
      "  [7] \"pixel6\"   \"pixel7\"   \"pixel8\"   \"pixel9\"   \"pixel10\"  \"pixel11\" \n",
      " [13] \"pixel12\"  \"pixel13\"  \"pixel14\"  \"pixel15\"  \"pixel16\"  \"pixel17\" \n",
      " [19] \"pixel18\"  \"pixel19\"  \"pixel20\"  \"pixel21\"  \"pixel22\"  \"pixel23\" \n",
      " [25] \"pixel24\"  \"pixel25\"  \"pixel26\"  \"pixel27\"  \"pixel28\"  \"pixel29\" \n",
      " [31] \"pixel30\"  \"pixel31\"  \"pixel32\"  \"pixel33\"  \"pixel34\"  \"pixel35\" \n",
      " [37] \"pixel36\"  \"pixel37\"  \"pixel38\"  \"pixel39\"  \"pixel40\"  \"pixel41\" \n",
      " [43] \"pixel42\"  \"pixel43\"  \"pixel44\"  \"pixel45\"  \"pixel46\"  \"pixel47\" \n",
      " [49] \"pixel48\"  \"pixel49\"  \"pixel50\"  \"pixel51\"  \"pixel52\"  \"pixel53\" \n",
      " [55] \"pixel54\"  \"pixel55\"  \"pixel56\"  \"pixel57\"  \"pixel58\"  \"pixel59\" \n",
      " [61] \"pixel60\"  \"pixel61\"  \"pixel62\"  \"pixel63\"  \"pixel64\"  \"pixel65\" \n",
      " [67] \"pixel66\"  \"pixel67\"  \"pixel68\"  \"pixel69\"  \"pixel70\"  \"pixel71\" \n",
      " [73] \"pixel72\"  \"pixel73\"  \"pixel74\"  \"pixel75\"  \"pixel76\"  \"pixel77\" \n",
      " [79] \"pixel78\"  \"pixel79\"  \"pixel80\"  \"pixel81\"  \"pixel82\"  \"pixel83\" \n",
      " [85] \"pixel84\"  \"pixel85\"  \"pixel86\"  \"pixel87\"  \"pixel88\"  \"pixel89\" \n",
      " [91] \"pixel90\"  \"pixel91\"  \"pixel92\"  \"pixel93\"  \"pixel94\"  \"pixel95\" \n",
      " [97] \"pixel96\"  \"pixel97\"  \"pixel98\"  \"pixel99\"  \"pixel100\" \"pixel101\"\n",
      "[103] \"pixel102\" \"pixel103\" \"pixel104\" \"pixel105\" \"pixel106\" \"pixel107\"\n",
      "[109] \"pixel108\" \"pixel109\" \"pixel110\" \"pixel111\" \"pixel112\" \"pixel113\"\n",
      "[115] \"pixel114\" \"pixel115\" \"pixel116\" \"pixel117\" \"pixel118\" \"pixel119\"\n",
      "[121] \"pixel120\" \"pixel121\" \"pixel122\" \"pixel123\" \"pixel124\" \"pixel125\"\n",
      "[127] \"pixel126\" \"pixel127\" \"pixel128\" \"pixel129\" \"pixel130\" \"pixel131\"\n",
      "[133] \"pixel132\" \"pixel133\" \"pixel134\" \"pixel135\" \"pixel136\" \"pixel137\"\n",
      "[139] \"pixel138\" \"pixel139\" \"pixel140\" \"pixel141\" \"pixel142\" \"pixel143\"\n",
      "[145] \"pixel144\" \"pixel145\" \"pixel146\" \"pixel147\" \"pixel148\" \"pixel149\"\n",
      "[151] \"pixel150\" \"pixel151\" \"pixel152\" \"pixel153\" \"pixel154\" \"pixel155\"\n",
      "[157] \"pixel156\" \"pixel157\" \"pixel158\" \"pixel159\" \"pixel160\" \"pixel161\"\n",
      "[163] \"pixel162\" \"pixel163\" \"pixel164\" \"pixel165\" \"pixel166\" \"pixel167\"\n",
      "[169] \"pixel168\" \"pixel169\" \"pixel170\" \"pixel171\" \"pixel172\" \"pixel173\"\n",
      "[175] \"pixel174\" \"pixel175\" \"pixel176\" \"pixel177\" \"pixel178\" \"pixel179\"\n",
      "[181] \"pixel180\" \"pixel181\" \"pixel182\" \"pixel183\" \"pixel184\" \"pixel185\"\n",
      "[187] \"pixel186\" \"pixel187\" \"pixel188\" \"pixel189\" \"pixel190\" \"pixel191\"\n",
      "[193] \"pixel192\" \"pixel193\" \"pixel194\" \"pixel195\" \"pixel196\" \"pixel197\"\n",
      "[199] \"pixel198\" \"pixel199\" \"pixel200\" \"pixel201\" \"pixel202\" \"pixel203\"\n",
      "[205] \"pixel204\" \"pixel205\" \"pixel206\" \"pixel207\" \"pixel208\" \"pixel209\"\n",
      "[211] \"pixel210\" \"pixel211\" \"pixel212\" \"pixel213\" \"pixel214\" \"pixel215\"\n",
      "[217] \"pixel216\" \"pixel217\" \"pixel218\" \"pixel219\" \"pixel220\" \"pixel221\"\n",
      "[223] \"pixel222\" \"pixel223\" \"pixel224\" \"pixel225\" \"pixel226\" \"pixel227\"\n",
      "[229] \"pixel228\" \"pixel229\" \"pixel230\" \"pixel231\" \"pixel232\" \"pixel233\"\n",
      "[235] \"pixel234\" \"pixel235\" \"pixel236\" \"pixel237\" \"pixel238\" \"pixel239\"\n",
      "[241] \"pixel240\" \"pixel241\" \"pixel242\" \"pixel243\" \"pixel244\" \"pixel245\"\n",
      "[247] \"pixel246\" \"pixel247\" \"pixel248\" \"pixel249\" \"pixel250\" \"pixel251\"\n",
      "[253] \"pixel252\" \"pixel253\" \"pixel254\" \"pixel255\" \"pixel256\" \"pixel257\"\n",
      "[259] \"pixel258\" \"pixel259\" \"pixel260\" \"pixel261\" \"pixel262\" \"pixel263\"\n",
      "[265] \"pixel264\" \"pixel265\" \"pixel266\" \"pixel267\" \"pixel268\" \"pixel269\"\n",
      "[271] \"pixel270\" \"pixel271\" \"pixel272\" \"pixel273\" \"pixel274\" \"pixel275\"\n",
      "[277] \"pixel276\" \"pixel277\" \"pixel278\" \"pixel279\" \"pixel280\" \"pixel281\"\n",
      "[283] \"pixel282\" \"pixel283\" \"pixel284\" \"pixel285\" \"pixel286\" \"pixel287\"\n",
      "[289] \"pixel288\" \"pixel289\" \"pixel290\" \"pixel291\" \"pixel292\" \"pixel293\"\n",
      "[295] \"pixel294\" \"pixel295\" \"pixel296\" \"pixel297\" \"pixel298\" \"pixel299\"\n",
      "[301] \"pixel300\" \"pixel301\" \"pixel302\" \"pixel303\" \"pixel304\" \"pixel305\"\n",
      "[307] \"pixel306\" \"pixel307\" \"pixel308\" \"pixel309\" \"pixel310\" \"pixel311\"\n",
      "[313] \"pixel312\" \"pixel313\" \"pixel314\" \"pixel315\" \"pixel316\" \"pixel317\"\n",
      "[319] \"pixel318\" \"pixel319\" \"pixel320\" \"pixel321\" \"pixel322\" \"pixel323\"\n",
      "[325] \"pixel324\" \"pixel325\" \"pixel326\" \"pixel327\" \"pixel328\" \"pixel329\"\n",
      "[331] \"pixel330\" \"pixel331\" \"pixel332\" \"pixel333\" \"pixel334\" \"pixel335\"\n",
      "[337] \"pixel336\" \"pixel337\" \"pixel338\" \"pixel339\" \"pixel340\" \"pixel341\"\n",
      "[343] \"pixel342\" \"pixel343\" \"pixel344\" \"pixel345\" \"pixel346\" \"pixel347\"\n",
      "[349] \"pixel348\" \"pixel349\" \"pixel350\" \"pixel351\" \"pixel352\" \"pixel353\"\n",
      "[355] \"pixel354\" \"pixel355\" \"pixel356\" \"pixel357\" \"pixel358\" \"pixel359\"\n",
      "[361] \"pixel360\" \"pixel361\" \"pixel362\" \"pixel363\" \"pixel364\" \"pixel365\"\n",
      "[367] \"pixel366\" \"pixel367\" \"pixel368\" \"pixel369\" \"pixel370\" \"pixel371\"\n",
      "[373] \"pixel372\" \"pixel373\" \"pixel374\" \"pixel375\" \"pixel376\" \"pixel377\"\n",
      "[379] \"pixel378\" \"pixel379\" \"pixel380\" \"pixel381\" \"pixel382\" \"pixel383\"\n",
      "[385] \"pixel384\" \"pixel385\" \"pixel386\" \"pixel387\" \"pixel388\" \"pixel389\"\n",
      "[391] \"pixel390\" \"pixel391\" \"pixel392\" \"pixel393\" \"pixel394\" \"pixel395\"\n",
      "[397] \"pixel396\" \"pixel397\" \"pixel398\" \"pixel399\" \"pixel400\" \"pixel401\"\n",
      "[403] \"pixel402\" \"pixel403\" \"pixel404\" \"pixel405\" \"pixel406\" \"pixel407\"\n",
      "[409] \"pixel408\" \"pixel409\" \"pixel410\" \"pixel411\" \"pixel412\" \"pixel413\"\n",
      "[415] \"pixel414\" \"pixel415\" \"pixel416\" \"pixel417\" \"pixel418\" \"pixel419\"\n",
      "[421] \"pixel420\" \"pixel421\" \"pixel422\" \"pixel423\" \"pixel424\" \"pixel425\"\n",
      "[427] \"pixel426\" \"pixel427\" \"pixel428\" \"pixel429\" \"pixel430\" \"pixel431\"\n",
      "[433] \"pixel432\" \"pixel433\" \"pixel434\" \"pixel435\" \"pixel436\" \"pixel437\"\n",
      "[439] \"pixel438\" \"pixel439\" \"pixel440\" \"pixel441\" \"pixel442\" \"pixel443\"\n",
      "[445] \"pixel444\" \"pixel445\" \"pixel446\" \"pixel447\" \"pixel448\" \"pixel449\"\n",
      "[451] \"pixel450\" \"pixel451\" \"pixel452\" \"pixel453\" \"pixel454\" \"pixel455\"\n",
      "[457] \"pixel456\" \"pixel457\" \"pixel458\" \"pixel459\" \"pixel460\" \"pixel461\"\n",
      "[463] \"pixel462\" \"pixel463\" \"pixel464\" \"pixel465\" \"pixel466\" \"pixel467\"\n",
      "[469] \"pixel468\" \"pixel469\" \"pixel470\" \"pixel471\" \"pixel472\" \"pixel473\"\n",
      "[475] \"pixel474\" \"pixel475\" \"pixel476\" \"pixel477\" \"pixel478\" \"pixel479\"\n",
      "[481] \"pixel480\" \"pixel481\" \"pixel482\" \"pixel483\" \"pixel484\" \"pixel485\"\n",
      "[487] \"pixel486\" \"pixel487\" \"pixel488\" \"pixel489\" \"pixel490\" \"pixel491\"\n",
      "[493] \"pixel492\" \"pixel493\" \"pixel494\" \"pixel495\" \"pixel496\" \"pixel497\"\n",
      "[499] \"pixel498\" \"pixel499\" \"pixel500\" \"pixel501\" \"pixel502\" \"pixel503\"\n",
      "[505] \"pixel504\" \"pixel505\" \"pixel506\" \"pixel507\" \"pixel508\" \"pixel509\"\n",
      "[511] \"pixel510\" \"pixel511\" \"pixel512\" \"pixel513\" \"pixel514\" \"pixel515\"\n",
      "[517] \"pixel516\" \"pixel517\" \"pixel518\" \"pixel519\" \"pixel520\" \"pixel521\"\n",
      "[523] \"pixel522\" \"pixel523\" \"pixel524\" \"pixel525\" \"pixel526\" \"pixel527\"\n",
      "[529] \"pixel528\" \"pixel529\" \"pixel530\" \"pixel531\" \"pixel532\" \"pixel533\"\n",
      "[535] \"pixel534\" \"pixel535\" \"pixel536\" \"pixel537\" \"pixel538\" \"pixel539\"\n",
      "[541] \"pixel540\" \"pixel541\" \"pixel542\" \"pixel543\" \"pixel544\" \"pixel545\"\n",
      "[547] \"pixel546\" \"pixel547\" \"pixel548\" \"pixel549\" \"pixel550\" \"pixel551\"\n",
      "[553] \"pixel552\" \"pixel553\" \"pixel554\" \"pixel555\" \"pixel556\" \"pixel557\"\n",
      "[559] \"pixel558\" \"pixel559\" \"pixel560\" \"pixel561\" \"pixel562\" \"pixel563\"\n",
      "[565] \"pixel564\" \"pixel565\" \"pixel566\" \"pixel567\" \"pixel568\" \"pixel569\"\n",
      "[571] \"pixel570\" \"pixel571\" \"pixel572\" \"pixel573\" \"pixel574\" \"pixel575\"\n",
      "[577] \"pixel576\" \"pixel577\" \"pixel578\" \"pixel579\" \"pixel580\" \"pixel581\"\n",
      "[583] \"pixel582\" \"pixel583\" \"pixel584\" \"pixel585\" \"pixel586\" \"pixel587\"\n",
      "[589] \"pixel588\" \"pixel589\" \"pixel590\" \"pixel591\" \"pixel592\" \"pixel593\"\n",
      "[595] \"pixel594\" \"pixel595\" \"pixel596\" \"pixel597\" \"pixel598\" \"pixel599\"\n",
      "[601] \"pixel600\" \"pixel601\" \"pixel602\" \"pixel603\" \"pixel604\" \"pixel605\"\n",
      "[607] \"pixel606\" \"pixel607\" \"pixel608\" \"pixel609\" \"pixel610\" \"pixel611\"\n",
      "[613] \"pixel612\" \"pixel613\" \"pixel614\" \"pixel615\" \"pixel616\" \"pixel617\"\n",
      "[619] \"pixel618\" \"pixel619\" \"pixel620\" \"pixel621\" \"pixel622\" \"pixel623\"\n",
      "[625] \"pixel624\" \"pixel625\" \"pixel626\" \"pixel627\" \"pixel628\" \"pixel629\"\n",
      "[631] \"pixel630\" \"pixel631\" \"pixel632\" \"pixel633\" \"pixel634\" \"pixel635\"\n",
      "[637] \"pixel636\" \"pixel637\" \"pixel638\" \"pixel639\" \"pixel640\" \"pixel641\"\n",
      "[643] \"pixel642\" \"pixel643\" \"pixel644\" \"pixel645\" \"pixel646\" \"pixel647\"\n",
      "[649] \"pixel648\" \"pixel649\" \"pixel650\" \"pixel651\" \"pixel652\" \"pixel653\"\n",
      "[655] \"pixel654\" \"pixel655\" \"pixel656\" \"pixel657\" \"pixel658\" \"pixel659\"\n",
      "[661] \"pixel660\" \"pixel661\" \"pixel662\" \"pixel663\" \"pixel664\" \"pixel665\"\n",
      "[667] \"pixel666\" \"pixel667\" \"pixel668\" \"pixel669\" \"pixel670\" \"pixel671\"\n",
      "[673] \"pixel672\" \"pixel673\" \"pixel674\" \"pixel675\" \"pixel676\" \"pixel677\"\n",
      "[679] \"pixel678\" \"pixel679\" \"pixel680\" \"pixel681\" \"pixel682\" \"pixel683\"\n",
      "[685] \"pixel684\" \"pixel685\" \"pixel686\" \"pixel687\" \"pixel688\" \"pixel689\"\n",
      "[691] \"pixel690\" \"pixel691\" \"pixel692\" \"pixel693\" \"pixel694\" \"pixel695\"\n",
      "[697] \"pixel696\" \"pixel697\" \"pixel698\" \"pixel699\" \"pixel700\" \"pixel701\"\n",
      "[703] \"pixel702\" \"pixel703\" \"pixel704\" \"pixel705\" \"pixel706\" \"pixel707\"\n",
      "[709] \"pixel708\" \"pixel709\" \"pixel710\" \"pixel711\" \"pixel712\" \"pixel713\"\n",
      "[715] \"pixel714\" \"pixel715\" \"pixel716\" \"pixel717\" \"pixel718\" \"pixel719\"\n",
      "[721] \"pixel720\" \"pixel721\" \"pixel722\" \"pixel723\" \"pixel724\" \"pixel725\"\n",
      "[727] \"pixel726\" \"pixel727\" \"pixel728\" \"pixel729\" \"pixel730\" \"pixel731\"\n",
      "[733] \"pixel732\" \"pixel733\" \"pixel734\" \"pixel735\" \"pixel736\" \"pixel737\"\n",
      "[739] \"pixel738\" \"pixel739\" \"pixel740\" \"pixel741\" \"pixel742\" \"pixel743\"\n",
      "[745] \"pixel744\" \"pixel745\" \"pixel746\" \"pixel747\" \"pixel748\" \"pixel749\"\n",
      "[751] \"pixel750\" \"pixel751\" \"pixel752\" \"pixel753\" \"pixel754\" \"pixel755\"\n",
      "[757] \"pixel756\" \"pixel757\" \"pixel758\" \"pixel759\" \"pixel760\" \"pixel761\"\n",
      "[763] \"pixel762\" \"pixel763\" \"pixel764\" \"pixel765\" \"pixel766\" \"pixel767\"\n",
      "[769] \"pixel768\" \"pixel769\" \"pixel770\" \"pixel771\" \"pixel772\" \"pixel773\"\n",
      "[775] \"pixel774\" \"pixel775\" \"pixel776\" \"pixel777\" \"pixel778\" \"pixel779\"\n",
      "[781] \"pixel780\" \"pixel781\" \"pixel782\" \"pixel783\"\n"
     ]
    }
   ],
   "source": [
    "# Define target (y) and features (x)\n",
    "target <- \"label\" \n",
    "features <- setdiff(colnames(h_mnist), target)\n",
    "print(features)"
   ]
  },
  {
   "cell_type": "code",
   "execution_count": 9,
   "metadata": {
    "collapsed": true
   },
   "outputs": [],
   "source": [
    "# Custom function to visualise digit\n",
    "show_digit <- function(h_frame, features) {\n",
    "  \n",
    "  # Convert to normal R data frame\n",
    "  d <- as.data.frame(h_frame[, features])\n",
    "  \n",
    "  # Reshape\n",
    "  m <- matrix(data = as.numeric(d), nrow = 28, ncol = 28, byrow = TRUE)\n",
    "  rotate <- function(x) t(apply(x, 2, rev))\n",
    "  m <- rotate(m)\n",
    "  \n",
    "  # Show image\n",
    "  image(m, axes = FALSE, col = grey(seq(0, 1, length = 256)))\n",
    "\n",
    "}"
   ]
  },
  {
   "cell_type": "code",
   "execution_count": 10,
   "metadata": {
    "collapsed": false
   },
   "outputs": [
    {
     "data": {
      "image/png": "[encoded data removed]",
      "text/plain": [
       "plot without title"
      ]
     },
     "metadata": {},
     "output_type": "display_data"
    }
   ],
   "source": [
    "# Test (not run)\n",
    "set.seed(1234)\n",
    "show_digit(h_mnist[sample(1:100,1),], features)"
   ]
  },
  {
   "cell_type": "markdown",
   "metadata": {},
   "source": [
    "<br>\n",
    "\n",
    "## Split Dataset for Training and Out-of-Bag Evaluation"
   ]
  },
  {
   "cell_type": "code",
   "execution_count": 11,
   "metadata": {
    "collapsed": true
   },
   "outputs": [],
   "source": [
    "# Split dataset into train/test\n",
    "h_split <- h2o.splitFrame(h_mnist, ratios = 0.8, seed = 1234)\n",
    "h_train <- h_split[[1]]\n",
    "h_test <- h_split[[2]]"
   ]
  },
  {
   "cell_type": "code",
   "execution_count": 12,
   "metadata": {
    "collapsed": false
   },
   "outputs": [
    {
     "data": {
      "text/html": [
       "<ol class=list-inline>\n",
       "\t<li>33689</li>\n",
       "\t<li>785</li>\n",
       "</ol>\n"
      ],
      "text/latex": [
       "\\begin{enumerate*}\n",
       "\\item 33689\n",
       "\\item 785\n",
       "\\end{enumerate*}\n"
      ],
      "text/markdown": [
       "1. 33689\n",
       "2. 785\n",
       "\n",
       "\n"
      ],
      "text/plain": [
       "[1] 33689   785"
      ]
     },
     "metadata": {},
     "output_type": "display_data"
    },
    {
     "data": {
      "text/html": [
       "<table>\n",
       "<thead><tr><th scope=col>label</th><th scope=col>Count</th></tr></thead>\n",
       "<tbody>\n",
       "\t<tr><td>0   </td><td>3293</td></tr>\n",
       "\t<tr><td>1   </td><td>3754</td></tr>\n",
       "\t<tr><td>2   </td><td>3370</td></tr>\n",
       "\t<tr><td>3   </td><td>3481</td></tr>\n",
       "\t<tr><td>4   </td><td>3266</td></tr>\n",
       "\t<tr><td>5   </td><td>3064</td></tr>\n",
       "\t<tr><td>6   </td><td>3306</td></tr>\n",
       "\t<tr><td>7   </td><td>3517</td></tr>\n",
       "\t<tr><td>8   </td><td>3274</td></tr>\n",
       "\t<tr><td>9   </td><td>3364</td></tr>\n",
       "</tbody>\n",
       "</table>\n"
      ],
      "text/latex": [
       "\\begin{tabular}{r|ll}\n",
       " label & Count\\\\\n",
       "\\hline\n",
       "\t 0    & 3293\\\\\n",
       "\t 1    & 3754\\\\\n",
       "\t 2    & 3370\\\\\n",
       "\t 3    & 3481\\\\\n",
       "\t 4    & 3266\\\\\n",
       "\t 5    & 3064\\\\\n",
       "\t 6    & 3306\\\\\n",
       "\t 7    & 3517\\\\\n",
       "\t 8    & 3274\\\\\n",
       "\t 9    & 3364\\\\\n",
       "\\end{tabular}\n"
      ],
      "text/markdown": [
       "\n",
       "label | Count | \n",
       "|---|---|---|---|---|---|---|---|---|---|\n",
       "| 0    | 3293 | \n",
       "| 1    | 3754 | \n",
       "| 2    | 3370 | \n",
       "| 3    | 3481 | \n",
       "| 4    | 3266 | \n",
       "| 5    | 3064 | \n",
       "| 6    | 3306 | \n",
       "| 7    | 3517 | \n",
       "| 8    | 3274 | \n",
       "| 9    | 3364 | \n",
       "\n",
       "\n"
      ],
      "text/plain": [
       "   label Count\n",
       "1  0     3293 \n",
       "2  1     3754 \n",
       "3  2     3370 \n",
       "4  3     3481 \n",
       "5  4     3266 \n",
       "6  5     3064 \n",
       "7  6     3306 \n",
       "8  7     3517 \n",
       "9  8     3274 \n",
       "10 9     3364 "
      ]
     },
     "metadata": {},
     "output_type": "display_data"
    }
   ],
   "source": [
    "dim(h_train)\n",
    "head(h2o.table(h_train$label), 10)"
   ]
  },
  {
   "cell_type": "code",
   "execution_count": 13,
   "metadata": {
    "collapsed": false,
    "scrolled": true
   },
   "outputs": [
    {
     "data": {
      "text/html": [
       "<ol class=list-inline>\n",
       "\t<li>8311</li>\n",
       "\t<li>785</li>\n",
       "</ol>\n"
      ],
      "text/latex": [
       "\\begin{enumerate*}\n",
       "\\item 8311\n",
       "\\item 785\n",
       "\\end{enumerate*}\n"
      ],
      "text/markdown": [
       "1. 8311\n",
       "2. 785\n",
       "\n",
       "\n"
      ],
      "text/plain": [
       "[1] 8311  785"
      ]
     },
     "metadata": {},
     "output_type": "display_data"
    },
    {
     "data": {
      "text/html": [
       "<table>\n",
       "<thead><tr><th scope=col>label</th><th scope=col>Count</th></tr></thead>\n",
       "<tbody>\n",
       "\t<tr><td>0  </td><td>839</td></tr>\n",
       "\t<tr><td>1  </td><td>930</td></tr>\n",
       "\t<tr><td>2  </td><td>807</td></tr>\n",
       "\t<tr><td>3  </td><td>870</td></tr>\n",
       "\t<tr><td>4  </td><td>806</td></tr>\n",
       "\t<tr><td>5  </td><td>731</td></tr>\n",
       "\t<tr><td>6  </td><td>831</td></tr>\n",
       "\t<tr><td>7  </td><td>884</td></tr>\n",
       "\t<tr><td>8  </td><td>789</td></tr>\n",
       "\t<tr><td>9  </td><td>824</td></tr>\n",
       "</tbody>\n",
       "</table>\n"
      ],
      "text/latex": [
       "\\begin{tabular}{r|ll}\n",
       " label & Count\\\\\n",
       "\\hline\n",
       "\t 0   & 839\\\\\n",
       "\t 1   & 930\\\\\n",
       "\t 2   & 807\\\\\n",
       "\t 3   & 870\\\\\n",
       "\t 4   & 806\\\\\n",
       "\t 5   & 731\\\\\n",
       "\t 6   & 831\\\\\n",
       "\t 7   & 884\\\\\n",
       "\t 8   & 789\\\\\n",
       "\t 9   & 824\\\\\n",
       "\\end{tabular}\n"
      ],
      "text/markdown": [
       "\n",
       "label | Count | \n",
       "|---|---|---|---|---|---|---|---|---|---|\n",
       "| 0   | 839 | \n",
       "| 1   | 930 | \n",
       "| 2   | 807 | \n",
       "| 3   | 870 | \n",
       "| 4   | 806 | \n",
       "| 5   | 731 | \n",
       "| 6   | 831 | \n",
       "| 7   | 884 | \n",
       "| 8   | 789 | \n",
       "| 9   | 824 | \n",
       "\n",
       "\n"
      ],
      "text/plain": [
       "   label Count\n",
       "1  0     839  \n",
       "2  1     930  \n",
       "3  2     807  \n",
       "4  3     870  \n",
       "5  4     806  \n",
       "6  5     731  \n",
       "7  6     831  \n",
       "8  7     884  \n",
       "9  8     789  \n",
       "10 9     824  "
      ]
     },
     "metadata": {},
     "output_type": "display_data"
    }
   ],
   "source": [
    "dim(h_test)\n",
    "head(h2o.table(h_test$label), 10)"
   ]
  },
  {
   "cell_type": "markdown",
   "metadata": {},
   "source": [
    "<br>\n",
    "\n",
    "## Find Out All Availalbe Options"
   ]
  },
  {
   "cell_type": "code",
   "execution_count": 14,
   "metadata": {
    "collapsed": true
   },
   "outputs": [],
   "source": [
    "# Check out parameters for h2o.deeplearning\n",
    "# ?h2o.deeplearning"
   ]
  },
  {
   "cell_type": "markdown",
   "metadata": {},
   "source": [
    "<br>\n",
    "\n",
    "## H2O Deep Learning Model - Basic Usage"
   ]
  },
  {
   "cell_type": "code",
   "execution_count": 15,
   "metadata": {
    "collapsed": false
   },
   "outputs": [
    {
     "name": "stderr",
     "output_type": "stream",
     "text": [
      "Warning message in .h2o.startModelJob(algo, params, h2oRestApiVersion):\n",
      "“Dropping constant columns: [pixel729, pixel644, pixel645, pixel448, pixel727, pixel728, pixel560, pixel52, pixel760, pixel10, pixel54, pixel53, pixel168, pixel56, pixel11, pixel55, pixel14, pixel57, pixel16, pixel15, pixel18, pixel17, pixel19, pixel754, pixel755, pixel756, pixel757, pixel758, pixel759, pixel83, pixel196, pixel82, pixel85, pixel671, pixel84, pixel111, pixel672, pixel112, pixel673, pixel113, pixel476, pixel392, pixel393, pixel700, pixel701, pixel141, pixel780, pixel30, pixel781, pixel782, pixel420, pixel783, pixel31, pixel421, pixel224, pixel588, pixel140, pixel699, pixel139, pixel8, pixel9, pixel616, pixel6, pixel7, pixel4, pixel5, pixel2, pixel3, pixel0, pixel21, pixel1, pixel20, pixel23, pixel532, pixel730, pixel22, pixel731, pixel25, pixel24, pixel27, pixel26, pixel29, pixel28].\n",
      "”"
     ]
    },
    {
     "name": "stdout",
     "output_type": "stream",
     "text": [
      "\r",
      "  |                                                                            \r",
      "  |                                                                      |   0%\r",
      "  |                                                                            \r",
      "  |======                                                                |   8%\r",
      "  |                                                                            \r",
      "  |===========                                                           |  16%\r",
      "  |                                                                            \r",
      "  |=================                                                     |  24%\r",
      "  |                                                                            \r",
      "  |======================                                                |  32%\r",
      "  |                                                                            \r",
      "  |============================                                          |  40%\r",
      "  |                                                                            \r",
      "  |=================================                                     |  48%\r",
      "  |                                                                            \r",
      "  |=======================================                               |  56%\r",
      "  |                                                                            \r",
      "  |============================================                          |  64%\r",
      "  |                                                                            \r",
      "  |==================================================                    |  72%\r",
      "  |                                                                            \r",
      "  |========================================================              |  79%\r",
      "  |                                                                            \r",
      "  |=============================================================         |  87%\r",
      "  |                                                                            \r",
      "  |===================================================================   |  95%\r",
      "  |                                                                            \r",
      "  |======================================================================| 100%\n"
     ]
    }
   ],
   "source": [
    "# DL with manual settings\n",
    "model_manual <- h2o.deeplearning(x = features,\n",
    "                                 y = target,\n",
    "                                 training_frame = h_train,\n",
    "                                 activation = \"Rectifier\",\n",
    "                                 hidden = c(200, 200),\n",
    "                                 epochs = 20)"
   ]
  },
  {
   "cell_type": "code",
   "execution_count": 16,
   "metadata": {
    "collapsed": false
   },
   "outputs": [
    {
     "data": {
      "text/plain": [
       "H2OMultinomialMetrics: deeplearning\n",
       "\n",
       "Test Set Metrics: \n",
       "=====================\n",
       "\n",
       "MSE: (Extract with `h2o.mse`) 0.02504152\n",
       "RMSE: (Extract with `h2o.rmse`) 0.1582451\n",
       "Logloss: (Extract with `h2o.logloss`) 0.2727759\n",
       "Mean Per-Class Error: 0.02789048\n",
       "Confusion Matrix: Extract with `h2o.confusionMatrix(<model>, <data>)`)\n",
       "=========================================================================\n",
       "Confusion Matrix: vertical: actual; across: predicted\n",
       "         0   1   2   3   4   5   6   7   8   9  Error          Rate\n",
       "0      828   0   2   0   0   2   1   0   4   2 0.0131 =    11 / 839\n",
       "1        1 915   1   4   2   1   2   3   1   0 0.0161 =    15 / 930\n",
       "2        3   6 777   8   0   0   1   7   3   2 0.0372 =    30 / 807\n",
       "3        0   2  10 842   0  10   0   1   4   1 0.0322 =    28 / 870\n",
       "4        0   1   5   0 787   0   3   1   2   7 0.0236 =    19 / 806\n",
       "5        1   1   3   3   0 713   5   1   2   2 0.0246 =    18 / 731\n",
       "6        2   4   1   0   1   7 813   0   3   0 0.0217 =    18 / 831\n",
       "7        0   3   9   2   2   1   0 858   0   9 0.0294 =    26 / 884\n",
       "8        3   4   3   9   0  11   3   2 749   5 0.0507 =    40 / 789\n",
       "9        2   1   2   5   4   1   0   9   1 799 0.0303 =    25 / 824\n",
       "Totals 840 937 813 873 796 746 828 882 769 827 0.0277 = 230 / 8,311\n",
       "\n",
       "Hit Ratio Table: Extract with `h2o.hit_ratio_table(<model>, <data>)`\n",
       "=======================================================================\n",
       "Top-10 Hit Ratios: \n",
       "    k hit_ratio\n",
       "1   1  0.972326\n",
       "2   2  0.991698\n",
       "3   3  0.996992\n",
       "4   4  0.997834\n",
       "5   5  0.998797\n",
       "6   6  0.999278\n",
       "7   7  0.999639\n",
       "8   8  0.999759\n",
       "9   9  1.000000\n",
       "10 10  1.000000\n"
      ]
     },
     "metadata": {},
     "output_type": "display_data"
    }
   ],
   "source": [
    "# Evaluate model performance on test data\n",
    "h2o.performance(model_manual, newdata = h_test)"
   ]
  },
  {
   "cell_type": "markdown",
   "metadata": {},
   "source": [
    "<br>"
   ]
  },
  {
   "cell_type": "markdown",
   "metadata": {},
   "source": [
    "<br>\n",
    "\n",
    "## Make Predictions"
   ]
  },
  {
   "cell_type": "code",
   "execution_count": 17,
   "metadata": {
    "collapsed": false
   },
   "outputs": [
    {
     "name": "stdout",
     "output_type": "stream",
     "text": [
      "\r",
      "  |                                                                            \r",
      "  |                                                                      |   0%\r",
      "  |                                                                            \r",
      "  |======================================================================| 100%\n"
     ]
    }
   ],
   "source": [
    "# Make predictions\n",
    "yhat_test <- h2o.predict(model_manual, newdata = h_test)"
   ]
  },
  {
   "cell_type": "code",
   "execution_count": 18,
   "metadata": {
    "collapsed": false,
    "scrolled": false
   },
   "outputs": [
    {
     "name": "stdout",
     "output_type": "stream",
     "text": [
      "Ground Truth:  3 \n",
      "Model Prediction: \n",
      "  predict           p0           p1           p2 p3           p4           p5\n",
      "1       3 1.462465e-44 5.160512e-30 7.425895e-34  1 1.414433e-47 2.885587e-29\n",
      "            p6           p7           p8           p9\n",
      "1 3.999086e-50 7.065346e-56 7.759887e-50 1.363194e-40\n",
      "\n",
      "[1 row x 11 columns] \n",
      "\n"
     ]
    },
    {
     "data": {
      "image/png": "[encoded data removed]",
      "text/plain": [
       "plot without title"
      ]
     },
     "metadata": {},
     "output_type": "display_data"
    },
    {
     "name": "stdout",
     "output_type": "stream",
     "text": [
      "Ground Truth:  9 \n",
      "Model Prediction: \n",
      "  predict           p0           p1           p2           p3           p4\n",
      "1       9 1.563944e-30 1.315056e-31 1.247531e-25 2.133485e-21 1.506872e-12\n",
      "            p5           p6           p7          p8 p9\n",
      "1 3.924451e-16 6.536777e-22 1.126197e-16 7.49779e-18  1\n",
      "\n",
      "[1 row x 11 columns] \n",
      "\n"
     ]
    },
    {
     "data": {
      "image/png": "[encoded data removed]",
      "text/plain": [
       "plot without title"
      ]
     },
     "metadata": {},
     "output_type": "display_data"
    },
    {
     "name": "stdout",
     "output_type": "stream",
     "text": [
      "Ground Truth:  4 \n",
      "Model Prediction: \n",
      "  predict           p0           p1           p2           p3        p4\n",
      "1       4 5.897616e-30 1.003492e-11 1.001204e-21 6.767871e-13 0.9999997\n",
      "            p5           p6           p7           p8           p9\n",
      "1 3.016641e-25 2.702509e-22 5.588275e-17 1.774936e-16 2.893608e-07\n",
      "\n",
      "[1 row x 11 columns] \n",
      "\n"
     ]
    },
    {
     "data": {
      "image/png": "[encoded data removed]",
      "text/plain": [
       "plot without title"
      ]
     },
     "metadata": {},
     "output_type": "display_data"
    },
    {
     "name": "stdout",
     "output_type": "stream",
     "text": [
      "Ground Truth:  0 \n",
      "Model Prediction: \n",
      "  predict p0           p1           p2           p3           p4           p5\n",
      "1       0  1 8.490207e-50 1.241727e-33 3.800144e-32 7.362621e-28 1.752471e-28\n",
      "            p6          p7           p8           p9\n",
      "1 8.622132e-17 2.23848e-22 3.654657e-36 3.744915e-24\n",
      "\n",
      "[1 row x 11 columns] \n",
      "\n"
     ]
    },
    {
     "data": {
      "image/png": "[encoded data removed]",
      "text/plain": [
       "plot without title"
      ]
     },
     "metadata": {},
     "output_type": "display_data"
    },
    {
     "name": "stdout",
     "output_type": "stream",
     "text": [
      "Ground Truth:  4 \n",
      "Model Prediction: \n",
      "  predict           p0           p1           p2          p3 p4          p5\n",
      "1       4 4.154034e-22 2.202065e-28 2.644369e-18 3.47144e-24  1 2.31908e-22\n",
      "            p6           p7           p8           p9\n",
      "1 1.036221e-14 3.284184e-12 1.329353e-21 3.726764e-09\n",
      "\n",
      "[1 row x 11 columns] \n",
      "\n"
     ]
    },
    {
     "data": {
      "image/png": "[encoded data removed]",
      "text/plain": [
       "plot without title"
      ]
     },
     "metadata": {},
     "output_type": "display_data"
    }
   ],
   "source": [
    "# Check some of the results visually\n",
    "set.seed(1234)\n",
    "for (n in 1:5) {\n",
    "  \n",
    "  # Random sample\n",
    "  n_samp_row <- sample(1:nrow(h_test), 1)\n",
    "  \n",
    "  # Show the digit\n",
    "  show_digit(h_test[n_samp_row,], features)\n",
    "  \n",
    "  # Show ground truth\n",
    "  cat(\"Ground Truth: \", as.character(h_test[n_samp_row, \"label\"]), \"\\n\")\n",
    "  \n",
    "  # Show predictions\n",
    "  cat(\"Model Prediction: \\n\")\n",
    "  print(yhat_test[n_samp_row, ])\n",
    "  cat(\"\\n\")\n",
    "  \n",
    "}"
   ]
  },
  {
   "cell_type": "markdown",
   "metadata": {},
   "source": [
    "## Build a Reproducible Classic H2O Deep Learning Model"
   ]
  },
  {
   "cell_type": "markdown",
   "metadata": {},
   "source": [
    "<br>"
   ]
  },
  {
   "cell_type": "code",
   "execution_count": 19,
   "metadata": {
    "collapsed": false
   },
   "outputs": [
    {
     "name": "stderr",
     "output_type": "stream",
     "text": [
      "Warning message in .h2o.startModelJob(algo, params, h2oRestApiVersion):\n",
      "“Dropping constant columns: [pixel729, pixel644, pixel645, pixel448, pixel727, pixel728, pixel560, pixel52, pixel760, pixel10, pixel54, pixel53, pixel168, pixel56, pixel11, pixel55, pixel14, pixel57, pixel16, pixel15, pixel18, pixel17, pixel19, pixel754, pixel755, pixel756, pixel757, pixel758, pixel759, pixel83, pixel196, pixel82, pixel85, pixel671, pixel84, pixel111, pixel672, pixel112, pixel673, pixel113, pixel476, pixel392, pixel393, pixel700, pixel701, pixel141, pixel780, pixel30, pixel781, pixel782, pixel420, pixel783, pixel31, pixel421, pixel224, pixel588, pixel140, pixel699, pixel139, pixel8, pixel9, pixel616, pixel6, pixel7, pixel4, pixel5, pixel2, pixel3, pixel0, pixel21, pixel1, pixel20, pixel23, pixel532, pixel730, pixel22, pixel731, pixel25, pixel24, pixel27, pixel26, pixel29, pixel28].\n",
      "”"
     ]
    },
    {
     "name": "stdout",
     "output_type": "stream",
     "text": [
      "\r",
      "  |                                                                            \r",
      "  |                                                                      |   0%\r",
      "  |                                                                            \r",
      "  |======================================================================| 100%\n"
     ]
    }
   ],
   "source": [
    "# DL with reproducible = TRUE and seed\n",
    "# Note 1: using one CPU thread only. Can be very slow.\n",
    "# Note 2: using a small network (50, 50) and one epoch for demo only.\n",
    "model_repro <- h2o.deeplearning(x = features,\n",
    "                                y = target,\n",
    "                                training_frame = h_train,\n",
    "                                hidden = c(50, 50),\n",
    "                                epochs = 1,\n",
    "                                reproducible = TRUE,\n",
    "                                seed = 1234)"
   ]
  },
  {
   "cell_type": "code",
   "execution_count": 20,
   "metadata": {
    "collapsed": false
   },
   "outputs": [
    {
     "data": {
      "text/plain": [
       "H2OMultinomialMetrics: deeplearning\n",
       "\n",
       "Test Set Metrics: \n",
       "=====================\n",
       "\n",
       "MSE: (Extract with `h2o.mse`) 0.05542939\n",
       "RMSE: (Extract with `h2o.rmse`) 0.2354345\n",
       "Logloss: (Extract with `h2o.logloss`) 0.2787309\n",
       "Mean Per-Class Error: 0.06350021\n",
       "Confusion Matrix: Extract with `h2o.confusionMatrix(<model>, <data>)`)\n",
       "=========================================================================\n",
       "Confusion Matrix: vertical: actual; across: predicted\n",
       "         0   1   2   3   4   5   6   7   8   9  Error          Rate\n",
       "0      821   0   1   1   2   6   3   0   2   3 0.0215 =    18 / 839\n",
       "1        0 905   4   8   2   2   1   3   1   4 0.0269 =    25 / 930\n",
       "2        4  15 729  22   6   3   8  11   7   2 0.0967 =    78 / 807\n",
       "3        3   0  14 814   0  19   1   9   4   6 0.0644 =    56 / 870\n",
       "4        0   1   2   1 767   3   6   5   4  17 0.0484 =    39 / 806\n",
       "5        9   0   3  12   2 689   3   2   6   5 0.0575 =    42 / 731\n",
       "6        8   3   3   1   6  15 789   1   5   0 0.0505 =    42 / 831\n",
       "7        2   4  14   7   5   2   0 838   0  12 0.0520 =    46 / 884\n",
       "8        5   9   5  30   2  21   4   3 699  11 0.1141 =    90 / 789\n",
       "9        1   2   3  16  24   5   0  30   4 739 0.1032 =    85 / 824\n",
       "Totals 853 939 778 912 816 765 815 902 732 799 0.0627 = 521 / 8,311\n",
       "\n",
       "Hit Ratio Table: Extract with `h2o.hit_ratio_table(<model>, <data>)`\n",
       "=======================================================================\n",
       "Top-10 Hit Ratios: \n",
       "    k hit_ratio\n",
       "1   1  0.937312\n",
       "2   2  0.976537\n",
       "3   3  0.988569\n",
       "4   4  0.993382\n",
       "5   5  0.995548\n",
       "6   6  0.997233\n",
       "7   7  0.998315\n",
       "8   8  0.999519\n",
       "9   9  1.000000\n",
       "10 10  1.000000\n"
      ]
     },
     "metadata": {},
     "output_type": "display_data"
    }
   ],
   "source": [
    "# Evaluate\n",
    "h2o.performance(model_repro, newdata = h_test)"
   ]
  }
 ],
 "metadata": {
  "anaconda-cloud": {},
  "kernelspec": {
   "display_name": "R",
   "language": "R",
   "name": "ir"
  },
  "language_info": {
   "codemirror_mode": "r",
   "file_extension": ".r",
   "mimetype": "text/x-r-source",
   "name": "R",
   "pygments_lexer": "r",
   "version": "3.3.2"
  }
 },
 "nbformat": 4,
 "nbformat_minor": 1
}
